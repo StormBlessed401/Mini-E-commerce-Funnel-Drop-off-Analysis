{
  "nbformat": 4,
  "nbformat_minor": 0,
  "metadata": {
    "colab": {
      "provenance": []
    },
    "kernelspec": {
      "name": "python3",
      "display_name": "Python 3"
    },
    "language_info": {
      "name": "python"
    }
  },
  "cells": [
    {
      "cell_type": "code",
      "execution_count": null,
      "metadata": {
        "colab": {
          "base_uri": "https://localhost:8080/"
        },
        "id": "b0z2T3tG_bee",
        "outputId": "90ab8e3e-5968-429b-d33f-8ae9d4eb2299"
      },
      "outputs": [
        {
          "output_type": "stream",
          "name": "stdout",
          "text": [
            "✅ Dataset generated: users.csv, products.csv, events.csv\n"
          ]
        }
      ],
      "source": [
        "import pandas as pd\n",
        "import numpy as np\n",
        "import random\n",
        "from datetime import datetime, timedelta\n",
        "\n",
        "# Set seed for reproducibility\n",
        "random.seed(42)\n",
        "np.random.seed(42)\n",
        "\n",
        "# PARAMETERS\n",
        "NUM_USERS = 1000\n",
        "NUM_PRODUCTS = 50\n",
        "NUM_EVENTS = 10000\n",
        "\n",
        "# DEVICE and LOCATION options\n",
        "devices = ['mobile', 'desktop', 'tablet']\n",
        "locations = ['Mumbai', 'Delhi', 'Bangalore', 'Hyderabad', 'Kolkata', 'Chennai']\n",
        "\n",
        "# PRODUCT CATEGORIES\n",
        "categories = ['electronics', 'clothing', 'home', 'books', 'toys']\n",
        "\n",
        "# 1. USERS TABLE\n",
        "users = pd.DataFrame({\n",
        "    'user_id': range(1, NUM_USERS + 1),\n",
        "    'device': np.random.choice(devices, NUM_USERS),\n",
        "    'location': np.random.choice(locations, NUM_USERS)\n",
        "})\n",
        "users.to_csv(\"users.csv\", index=False)\n",
        "\n",
        "# 2. PRODUCTS TABLE\n",
        "products = pd.DataFrame({\n",
        "    'product_id': range(101, 101 + NUM_PRODUCTS),\n",
        "    'category': np.random.choice(categories, NUM_PRODUCTS),\n",
        "    'price': np.random.randint(100, 2000, NUM_PRODUCTS)\n",
        "})\n",
        "products.to_csv(\"products.csv\", index=False)\n",
        "\n",
        "# 3. EVENTS TABLE\n",
        "event_types = ['view_product', 'add_to_cart', 'checkout', 'purchase']\n",
        "\n",
        "def simulate_events(num_events):\n",
        "    events = []\n",
        "    start_time = datetime(2025, 5, 1)\n",
        "\n",
        "    for _ in range(num_events):\n",
        "        user_id = random.randint(1, NUM_USERS)\n",
        "        product_id = random.randint(101, 100 + NUM_PRODUCTS)\n",
        "\n",
        "        # Funnel logic (view → cart → checkout → purchase)\n",
        "        funnel = ['view_product']\n",
        "        if random.random() < 0.7:\n",
        "            funnel.append('add_to_cart')\n",
        "            if random.random() < 0.5:\n",
        "                funnel.append('checkout')\n",
        "                if random.random() < 0.4:\n",
        "                    funnel.append('purchase')\n",
        "\n",
        "        # Assign timestamps\n",
        "        time = start_time + timedelta(minutes=random.randint(0, 43200))  # ~30 days\n",
        "        for event in funnel:\n",
        "            events.append({\n",
        "                'user_id': user_id,\n",
        "                'event_time': time.strftime(\"%Y-%m-%d %H:%M:%S\"),\n",
        "                'event_type': event,\n",
        "                'product_id': product_id\n",
        "            })\n",
        "            time += timedelta(minutes=random.randint(1, 20))  # Time gap between steps\n",
        "\n",
        "    return pd.DataFrame(events)\n",
        "\n",
        "events_df = simulate_events(NUM_EVENTS)\n",
        "events_df.to_csv(\"events.csv\", index=False)\n",
        "\n",
        "print(\"✅ Dataset generated: users.csv, products.csv, events.csv\")\n"
      ]
    },
    {
      "cell_type": "code",
      "source": [
        "import pandas as pd\n",
        "from sqlalchemy import create_engine\n",
        "import matplotlib.pyplot as plt\n",
        "import seaborn as sns\n",
        "\n",
        "# Load data from CSV\n",
        "users = pd.read_csv(\"users.csv\")\n",
        "products = pd.read_csv(\"products.csv\")\n",
        "events = pd.read_csv(\"events.csv\")\n"
      ],
      "metadata": {
        "id": "tlCngKKkAxsX"
      },
      "execution_count": null,
      "outputs": []
    },
    {
      "cell_type": "code",
      "source": [
        "users.info()"
      ],
      "metadata": {
        "colab": {
          "base_uri": "https://localhost:8080/"
        },
        "id": "F_Th1A_tA8-V",
        "outputId": "612879d3-fea1-4a25-8fbc-542fa6d77fd0"
      },
      "execution_count": null,
      "outputs": [
        {
          "output_type": "stream",
          "name": "stdout",
          "text": [
            "<class 'pandas.core.frame.DataFrame'>\n",
            "RangeIndex: 1000 entries, 0 to 999\n",
            "Data columns (total 3 columns):\n",
            " #   Column    Non-Null Count  Dtype \n",
            "---  ------    --------------  ----- \n",
            " 0   user_id   1000 non-null   int64 \n",
            " 1   device    1000 non-null   object\n",
            " 2   location  1000 non-null   object\n",
            "dtypes: int64(1), object(2)\n",
            "memory usage: 23.6+ KB\n"
          ]
        }
      ]
    },
    {
      "cell_type": "code",
      "source": [
        "# Create an in-memory SQLite database using SQLAlchemy\n",
        "engine = create_engine('sqlite:///:memory:')\n",
        "\n",
        "# Write DataFrames into SQL tables\n",
        "users.to_sql(\"users\", engine, index=False, if_exists=\"replace\")\n",
        "products.to_sql(\"products\", engine, index=False, if_exists=\"replace\")\n",
        "events.to_sql(\"events\", engine, index=False, if_exists=\"replace\")\n"
      ],
      "metadata": {
        "colab": {
          "base_uri": "https://localhost:8080/"
        },
        "id": "6u83HuGZKxLR",
        "outputId": "3781a2dd-21c2-48a6-f8a1-dd355930daca"
      },
      "execution_count": null,
      "outputs": [
        {
          "output_type": "execute_result",
          "data": {
            "text/plain": [
              "22028"
            ]
          },
          "metadata": {},
          "execution_count": 10
        }
      ]
    },
    {
      "cell_type": "code",
      "source": [
        "query = \"\"\"\n",
        "SELECT\n",
        "    event_type,\n",
        "    COUNT(DISTINCT user_id) AS unique_users\n",
        "FROM events\n",
        "GROUP BY event_type\n",
        "ORDER BY\n",
        "    CASE event_type\n",
        "        WHEN 'view_product' THEN 1\n",
        "        WHEN 'add_to_cart' THEN 2\n",
        "        WHEN 'checkout' THEN 3\n",
        "        WHEN 'purchase' THEN 4\n",
        "    END\n",
        "\"\"\"\n",
        "\n",
        "funnel_counts = pd.read_sql(query, engine)\n",
        "print(funnel_counts)\n"
      ],
      "metadata": {
        "colab": {
          "base_uri": "https://localhost:8080/"
        },
        "id": "dQ7-XFUULy4-",
        "outputId": "7ec9f992-49d1-41c9-cf09-36d398c22064"
      },
      "execution_count": null,
      "outputs": [
        {
          "output_type": "stream",
          "name": "stdout",
          "text": [
            "     event_type  unique_users\n",
            "0  view_product          1000\n",
            "1   add_to_cart          1000\n",
            "2      checkout           976\n",
            "3      purchase           734\n"
          ]
        }
      ]
    },
    {
      "cell_type": "code",
      "source": [
        "funnel_counts['drop_off'] = funnel_counts['unique_users'].shift(1) - funnel_counts['unique_users']\n",
        "funnel_counts['drop_off_rate'] = (funnel_counts['drop_off'] / funnel_counts['unique_users'].shift(1)) * 100\n",
        "funnel_counts = funnel_counts.round(2)\n",
        "\n",
        "print(funnel_counts)\n"
      ],
      "metadata": {
        "colab": {
          "base_uri": "https://localhost:8080/"
        },
        "id": "FByscpnaMBZs",
        "outputId": "e7c31c8f-8fee-4166-f62d-5e443e683c1f"
      },
      "execution_count": null,
      "outputs": [
        {
          "output_type": "stream",
          "name": "stdout",
          "text": [
            "     event_type  unique_users  drop_off  drop_off_rate\n",
            "0  view_product          1000       NaN            NaN\n",
            "1   add_to_cart          1000       0.0            0.0\n",
            "2      checkout           976      24.0            2.4\n",
            "3      purchase           734     242.0           24.8\n"
          ]
        }
      ]
    },
    {
      "cell_type": "code",
      "source": [
        "query_device = \"\"\"\n",
        "SELECT\n",
        "    u.device,\n",
        "    e.event_type,\n",
        "    COUNT(DISTINCT e.user_id) AS user_count\n",
        "FROM events e\n",
        "JOIN users u ON e.user_id = u.user_id\n",
        "GROUP BY u.device, e.event_type\n",
        "ORDER BY u.device,\n",
        "    CASE e.event_type\n",
        "        WHEN 'view_product' THEN 1\n",
        "        WHEN 'add_to_cart' THEN 2\n",
        "        WHEN 'checkout' THEN 3\n",
        "        WHEN 'purchase' THEN 4\n",
        "    END\n",
        "\"\"\"\n",
        "\n",
        "device_segment = pd.read_sql(query_device, engine)\n",
        "print(device_segment)\n"
      ],
      "metadata": {
        "colab": {
          "base_uri": "https://localhost:8080/"
        },
        "id": "y2NSeGaGMSFo",
        "outputId": "6ac300b4-9563-45e3-8c0d-caa8beb6e983"
      },
      "execution_count": null,
      "outputs": [
        {
          "output_type": "stream",
          "name": "stdout",
          "text": [
            "     device    event_type  user_count\n",
            "0   desktop  view_product         326\n",
            "1   desktop   add_to_cart         326\n",
            "2   desktop      checkout         323\n",
            "3   desktop      purchase         239\n",
            "4    mobile  view_product         355\n",
            "5    mobile   add_to_cart         355\n",
            "6    mobile      checkout         341\n",
            "7    mobile      purchase         269\n",
            "8    tablet  view_product         319\n",
            "9    tablet   add_to_cart         319\n",
            "10   tablet      checkout         312\n",
            "11   tablet      purchase         226\n"
          ]
        }
      ]
    },
    {
      "cell_type": "code",
      "source": [
        "query_category = \"\"\"\n",
        "SELECT\n",
        "    p.category,\n",
        "    e.event_type,\n",
        "    COUNT(DISTINCT e.user_id) AS user_count\n",
        "FROM events e\n",
        "JOIN products p ON e.product_id = p.product_id\n",
        "GROUP BY p.category, e.event_type\n",
        "ORDER BY p.category,\n",
        "    CASE e.event_type\n",
        "        WHEN 'view_product' THEN 1\n",
        "        WHEN 'add_to_cart' THEN 2\n",
        "        WHEN 'checkout' THEN 3\n",
        "        WHEN 'purchase' THEN 4\n",
        "    END\n",
        "\"\"\"\n",
        "\n",
        "category_segment = pd.read_sql(query_category, engine)\n",
        "print(category_segment)\n"
      ],
      "metadata": {
        "colab": {
          "base_uri": "https://localhost:8080/"
        },
        "id": "JHrOR2K1MVUi",
        "outputId": "8566deac-8beb-4265-a35e-3aab8454243d"
      },
      "execution_count": null,
      "outputs": [
        {
          "output_type": "stream",
          "name": "stdout",
          "text": [
            "       category    event_type  user_count\n",
            "0         books  view_product         925\n",
            "1         books   add_to_cart         836\n",
            "2         books      checkout         605\n",
            "3         books      purchase         304\n",
            "4      clothing  view_product         873\n",
            "5      clothing   add_to_cart         780\n",
            "6      clothing      checkout         526\n",
            "7      clothing      purchase         241\n",
            "8   electronics  view_product         691\n",
            "9   electronics   add_to_cart         559\n",
            "10  electronics      checkout         324\n",
            "11  electronics      purchase         142\n",
            "12         home  view_product         872\n",
            "13         home   add_to_cart         778\n",
            "14         home      checkout         518\n",
            "15         home      purchase         249\n",
            "16         toys  view_product         874\n",
            "17         toys   add_to_cart         758\n",
            "18         toys      checkout         519\n",
            "19         toys      purchase         246\n"
          ]
        }
      ]
    },
    {
      "cell_type": "code",
      "source": [
        "sns.barplot(data=funnel_counts, x='event_type', y='unique_users')\n",
        "plt.title(\"User Count at Each Funnel Stage\")\n",
        "plt.ylabel(\"Unique Users\")\n",
        "plt.xlabel(\"Funnel Stage\")\n",
        "plt.show()\n"
      ],
      "metadata": {
        "colab": {
          "base_uri": "https://localhost:8080/",
          "height": 472
        },
        "id": "FWr66iUxMW1v",
        "outputId": "4e6873e6-3f5b-447f-c208-58e6ac5a35de"
      },
      "execution_count": null,
      "outputs": [
        {
          "output_type": "display_data",
          "data": {
            "text/plain": [
              "<Figure size 640x480 with 1 Axes>"
            ],
            "image/png": "[encoded data removed]"
          },
          "metadata": {}
        }
      ]
    },
    {
      "cell_type": "code",
      "source": [
        "funnel_counts.to_csv(\"funnel_stage_counts.csv\", index=False)\n",
        "device_segment.to_csv(\"funnel_by_device.csv\", index=False)\n",
        "category_segment.to_csv(\"funnel_by_category.csv\", index=False)\n"
      ],
      "metadata": {
        "id": "tD1sfMjlM_1P"
      },
      "execution_count": null,
      "outputs": []
    }
  ]
}